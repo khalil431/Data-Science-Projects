{
 "cells": [
  {
   "cell_type": "code",
   "execution_count": 1,
   "metadata": {},
   "outputs": [
    {
     "data": {
      "text/html": [
       "<div>\n",
       "<style scoped>\n",
       "    .dataframe tbody tr th:only-of-type {\n",
       "        vertical-align: middle;\n",
       "    }\n",
       "\n",
       "    .dataframe tbody tr th {\n",
       "        vertical-align: top;\n",
       "    }\n",
       "\n",
       "    .dataframe thead th {\n",
       "        text-align: right;\n",
       "    }\n",
       "</style>\n",
       "<table border=\"1\" class=\"dataframe\">\n",
       "  <thead>\n",
       "    <tr style=\"text-align: right;\">\n",
       "      <th></th>\n",
       "      <th>Series1</th>\n",
       "      <th>Series2</th>\n",
       "      <th>Series3</th>\n",
       "    </tr>\n",
       "  </thead>\n",
       "  <tbody>\n",
       "    <tr>\n",
       "      <th>0</th>\n",
       "      <td>2012-10-21 09:30</td>\n",
       "      <td>2020-01-01 00:00</td>\n",
       "      <td>314134</td>\n",
       "    </tr>\n",
       "    <tr>\n",
       "      <th>1</th>\n",
       "      <td>2019-07-18 12:30</td>\n",
       "      <td>2021-01-01 00:00</td>\n",
       "      <td>1334</td>\n",
       "    </tr>\n",
       "    <tr>\n",
       "      <th>2</th>\n",
       "      <td>2008-02-02 10:30</td>\n",
       "      <td>2022-01-01 00:00</td>\n",
       "      <td>5424</td>\n",
       "    </tr>\n",
       "    <tr>\n",
       "      <th>3</th>\n",
       "      <td>2010-04-22 09:25</td>\n",
       "      <td>2023-01-01 00:00</td>\n",
       "      <td>314531</td>\n",
       "    </tr>\n",
       "    <tr>\n",
       "      <th>4</th>\n",
       "      <td>2019-11-08 02:22</td>\n",
       "      <td>2024-01-01 00:00</td>\n",
       "      <td>314134</td>\n",
       "    </tr>\n",
       "  </tbody>\n",
       "</table>\n",
       "</div>"
      ],
      "text/plain": [
       "            Series1           Series2 Series3\n",
       "0  2012-10-21 09:30  2020-01-01 00:00  314134\n",
       "1  2019-07-18 12:30  2021-01-01 00:00    1334\n",
       "2  2008-02-02 10:30  2022-01-01 00:00    5424\n",
       "3  2010-04-22 09:25  2023-01-01 00:00  314531\n",
       "4  2019-11-08 02:22  2024-01-01 00:00  314134"
      ]
     },
     "metadata": {},
     "output_type": "display_data"
    },
    {
     "data": {
      "text/plain": [
       "0    2020-01-01 00:00\n",
       "1    2021-01-01 00:00\n",
       "2    2022-01-01 00:00\n",
       "3    2023-01-01 00:00\n",
       "4    2024-01-01 00:00\n",
       "Name: Series2, dtype: object"
      ]
     },
     "metadata": {},
     "output_type": "display_data"
    },
    {
     "data": {
      "text/plain": [
       "0    2020-01-01 00:00:00\n",
       "1    2021-01-01 00:00:00\n",
       "2    2022-01-01 00:00:00\n",
       "3    2023-01-01 00:00:00\n",
       "4    2024-01-01 00:00:00\n",
       "Name: Series2, dtype: object"
      ]
     },
     "metadata": {},
     "output_type": "display_data"
    },
    {
     "data": {
      "text/plain": [
       "0    314134\n",
       "1      1334\n",
       "2      5424\n",
       "3    314531\n",
       "4    314134\n",
       "Name: Series3, dtype: object"
      ]
     },
     "metadata": {},
     "output_type": "display_data"
    },
    {
     "data": {
      "text/plain": [
       "0    314134\n",
       "1      1334\n",
       "2      5424\n",
       "3    314531\n",
       "4    314134\n",
       "Name: Series3, dtype: object"
      ]
     },
     "metadata": {},
     "output_type": "display_data"
    }
   ],
   "source": [
    "# This is just an experiment where I had run into a problem with pandas. I discovered that iloc and loc\n",
    "# returned copies of the series instead of returning the original series, so I was not able to\n",
    "# modify the series in place. Once I provided column names instead, the series were successfully\n",
    "# modified in place.\n",
    "\n",
    "import pandas as pd\n",
    "\n",
    "# Create a DataFrame with three separate Series\n",
    "sr = {\n",
    "    'Series1': ['2012-10-21 09:30', '2019-07-18 12:30', '2008-02-02 10:30',\n",
    "                 '2010-04-22 09:25', '2019-11-08 02:22'],\n",
    "    'Series2': ['2020-01-01 00:00', '2021-01-01 00:00', '2022-01-01 00:00',\n",
    "                 '2023-01-01 00:00', '2024-01-01 00:00'],\n",
    "    'Series3': ['314134', '1334', '5424',\n",
    "                 '314531', '314134']\n",
    "}\n",
    "\n",
    "sr = pd.DataFrame(sr)\n",
    "\n",
    "display(sr)\n",
    "\n",
    "# There should be no change here\n",
    "display(sr.iloc[:, 1])\n",
    "sr.iloc[:, 1] = pd.to_datetime(sr.iloc[:, 1])\n",
    "display(sr.iloc[:, 1])\n",
    "\n",
    "# There should be no change here either\n",
    "display(sr.iloc[:, 2])\n",
    "sr.iloc[:, 2] = sr.iloc[:, 2].astype(int)\n",
    "display(sr.iloc[:, 2])\n"
   ]
  },
  {
   "cell_type": "code",
   "execution_count": 2,
   "metadata": {},
   "outputs": [
    {
     "data": {
      "text/plain": [
       "0    2020-01-01 00:00:00\n",
       "1    2021-01-01 00:00:00\n",
       "2    2022-01-01 00:00:00\n",
       "3    2023-01-01 00:00:00\n",
       "4    2024-01-01 00:00:00\n",
       "Name: Series2, dtype: object"
      ]
     },
     "metadata": {},
     "output_type": "display_data"
    },
    {
     "data": {
      "text/plain": [
       "0   2020-01-01\n",
       "1   2021-01-01\n",
       "2   2022-01-01\n",
       "3   2023-01-01\n",
       "4   2024-01-01\n",
       "Name: Series2, dtype: datetime64[ns]"
      ]
     },
     "metadata": {},
     "output_type": "display_data"
    },
    {
     "data": {
      "text/plain": [
       "0    314134\n",
       "1      1334\n",
       "2      5424\n",
       "3    314531\n",
       "4    314134\n",
       "Name: Series3, dtype: object"
      ]
     },
     "metadata": {},
     "output_type": "display_data"
    },
    {
     "data": {
      "text/plain": [
       "0    314134\n",
       "1      1334\n",
       "2      5424\n",
       "3    314531\n",
       "4    314134\n",
       "Name: Series3, dtype: int64"
      ]
     },
     "metadata": {},
     "output_type": "display_data"
    }
   ],
   "source": [
    "# Here instead of using iloc or loc, the column names are provided \n",
    "# so that we can modify the series in place, since the original\n",
    "# series are returned and not copies of them.\n",
    "\n",
    "# Convert Series2 to datetime and assign back to the DataFrame\n",
    "display(sr['Series2'])\n",
    "sr['Series2'] = pd.to_datetime(sr['Series2'])\n",
    "display(sr['Series2'])\n",
    "\n",
    "# Convert Series3 to int and assign back to the DataFrame\n",
    "display(sr['Series3'])\n",
    "sr['Series3'] = sr['Series3'].astype(int)\n",
    "display(sr['Series3'])\n"
   ]
  },
  {
   "cell_type": "code",
   "execution_count": null,
   "metadata": {},
   "outputs": [],
   "source": []
  }
 ],
 "metadata": {
  "kernelspec": {
   "display_name": "myenv",
   "language": "python",
   "name": "python3"
  },
  "language_info": {
   "codemirror_mode": {
    "name": "ipython",
    "version": 3
   },
   "file_extension": ".py",
   "mimetype": "text/x-python",
   "name": "python",
   "nbconvert_exporter": "python",
   "pygments_lexer": "ipython3",
   "version": "3.10.12"
  }
 },
 "nbformat": 4,
 "nbformat_minor": 2
}
