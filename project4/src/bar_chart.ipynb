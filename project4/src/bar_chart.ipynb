{
 "cells": [
  {
   "cell_type": "code",
   "execution_count": 1,
   "id": "bc7e3750-470d-415d-a489-b28366e07b41",
   "metadata": {},
   "outputs": [
    {
     "data": {
      "text/html": [
       "<div>\n",
       "<style scoped>\n",
       "    .dataframe tbody tr th:only-of-type {\n",
       "        vertical-align: middle;\n",
       "    }\n",
       "\n",
       "    .dataframe tbody tr th {\n",
       "        vertical-align: top;\n",
       "    }\n",
       "\n",
       "    .dataframe thead th {\n",
       "        text-align: right;\n",
       "    }\n",
       "</style>\n",
       "<table border=\"1\" class=\"dataframe\">\n",
       "  <thead>\n",
       "    <tr style=\"text-align: right;\">\n",
       "      <th></th>\n",
       "      <th>complaint type</th>\n",
       "      <th>borough</th>\n",
       "      <th>count</th>\n",
       "    </tr>\n",
       "  </thead>\n",
       "  <tbody>\n",
       "    <tr>\n",
       "      <th>0</th>\n",
       "      <td>UNSANITARY CONDITION</td>\n",
       "      <td>BROOKLYN</td>\n",
       "      <td>1395</td>\n",
       "    </tr>\n",
       "    <tr>\n",
       "      <th>1</th>\n",
       "      <td>HEAT/HOT WATER</td>\n",
       "      <td>BRONX</td>\n",
       "      <td>15533</td>\n",
       "    </tr>\n",
       "    <tr>\n",
       "      <th>2</th>\n",
       "      <td>Sidewalk Condition</td>\n",
       "      <td>STATEN ISLAND</td>\n",
       "      <td>288</td>\n",
       "    </tr>\n",
       "    <tr>\n",
       "      <th>3</th>\n",
       "      <td>Illegal Tree Damage</td>\n",
       "      <td>BRONX</td>\n",
       "      <td>12</td>\n",
       "    </tr>\n",
       "    <tr>\n",
       "      <th>4</th>\n",
       "      <td>General Construction/Plumbing</td>\n",
       "      <td>Saint Albans</td>\n",
       "      <td>12</td>\n",
       "    </tr>\n",
       "  </tbody>\n",
       "</table>\n",
       "</div>"
      ],
      "text/plain": [
       "                  complaint type        borough  count\n",
       "0           UNSANITARY CONDITION       BROOKLYN   1395\n",
       "1                 HEAT/HOT WATER          BRONX  15533\n",
       "2             Sidewalk Condition  STATEN ISLAND    288\n",
       "3            Illegal Tree Damage          BRONX     12\n",
       "4  General Construction/Plumbing   Saint Albans     12"
      ]
     },
     "metadata": {},
     "output_type": "display_data"
    },
    {
     "data": {
      "text/html": [
       "<div>\n",
       "<style scoped>\n",
       "    .dataframe tbody tr th:only-of-type {\n",
       "        vertical-align: middle;\n",
       "    }\n",
       "\n",
       "    .dataframe tbody tr th {\n",
       "        vertical-align: top;\n",
       "    }\n",
       "\n",
       "    .dataframe thead th {\n",
       "        text-align: right;\n",
       "    }\n",
       "</style>\n",
       "<table border=\"1\" class=\"dataframe\">\n",
       "  <thead>\n",
       "    <tr style=\"text-align: right;\">\n",
       "      <th></th>\n",
       "      <th>complaint type</th>\n",
       "      <th>borough</th>\n",
       "      <th>count</th>\n",
       "    </tr>\n",
       "  </thead>\n",
       "  <tbody>\n",
       "    <tr>\n",
       "      <th>0</th>\n",
       "      <td>Street Light Condition</td>\n",
       "      <td>BRONX</td>\n",
       "      <td>1388</td>\n",
       "    </tr>\n",
       "    <tr>\n",
       "      <th>1</th>\n",
       "      <td>Street Light Condition</td>\n",
       "      <td>NEW YORK</td>\n",
       "      <td>340</td>\n",
       "    </tr>\n",
       "    <tr>\n",
       "      <th>2</th>\n",
       "      <td>Street Light Condition</td>\n",
       "      <td>Oakland Gardens</td>\n",
       "      <td>51</td>\n",
       "    </tr>\n",
       "    <tr>\n",
       "      <th>3</th>\n",
       "      <td>Street Light Condition</td>\n",
       "      <td>BROOKLYN</td>\n",
       "      <td>1714</td>\n",
       "    </tr>\n",
       "    <tr>\n",
       "      <th>4</th>\n",
       "      <td>Traffic Signal Condition</td>\n",
       "      <td>BROOKLYN</td>\n",
       "      <td>1350</td>\n",
       "    </tr>\n",
       "  </tbody>\n",
       "</table>\n",
       "</div>"
      ],
      "text/plain": [
       "             complaint type          borough  count\n",
       "0    Street Light Condition            BRONX   1388\n",
       "1    Street Light Condition         NEW YORK    340\n",
       "2    Street Light Condition  Oakland Gardens     51\n",
       "3    Street Light Condition         BROOKLYN   1714\n",
       "4  Traffic Signal Condition         BROOKLYN   1350"
      ]
     },
     "metadata": {},
     "output_type": "display_data"
    }
   ],
   "source": [
    "import pandas as pd\n",
    "import os\n",
    "\n",
    "# Load the data\n",
    "resultsDirectory = os.path.join(os.path.dirname(os.getcwd()), \"data/results\")\n",
    "resultsJanFebPath = os.path.join(resultsDirectory, \"results-Jan-Feb.csv\")\n",
    "resultsJuneJulyPath = os.path.join(resultsDirectory, \"results-June-July.csv\")\n",
    "results_df_JanFeb = pd.read_csv(resultsJanFebPath)\n",
    "results_df_JuneJul = pd.read_csv(resultsJuneJulyPath)\n",
    "display(results_df_JanFeb.head())\n",
    "display(results_df_JuneJul.head())"
   ]
  },
  {
   "cell_type": "code",
   "execution_count": 2,
   "id": "bcbc924a-d552-489f-b421-2930f26de59a",
   "metadata": {},
   "outputs": [
    {
     "data": {
      "text/plain": [
       "complaint type    HEAT/HOT WATER\n",
       "count                      41984\n",
       "Name: 55, dtype: object"
      ]
     },
     "metadata": {},
     "output_type": "display_data"
    }
   ],
   "source": [
    "# Find the most abundant complaint type in January-February\n",
    "aggregated_counts_jan_feb = results_df_JanFeb.groupby('complaint type')['count'].sum().reset_index()\n",
    "most_abundant_complaint_jan_feb = aggregated_counts_jan_feb.loc[aggregated_counts_jan_feb['count'].idxmax()]\n",
    "display(most_abundant_complaint_jan_feb)\n"
   ]
  },
  {
   "cell_type": "code",
   "execution_count": 3,
   "id": "485013a7-554a-4c71-96d7-4cf768d4a525",
   "metadata": {},
   "outputs": [
    {
     "data": {
      "text/plain": [
       "complaint type    HEAT/HOT WATER\n",
       "count                       4331\n",
       "Name: 0, dtype: object"
      ]
     },
     "metadata": {},
     "output_type": "display_data"
    }
   ],
   "source": [
    "# Filter for the same complaint type in June-July DataFrame\n",
    "same_complaint_june_july = results_df_JuneJul[results_df_JuneJul['complaint type'] == most_abundant_complaint_jan_feb['complaint type']]\n",
    "aggregated_counts_june_july = same_complaint_june_july.groupby('complaint type')['count'].sum().reset_index()\n",
    "most_abundant_complaint_june_july = aggregated_counts_june_july.loc[aggregated_counts_june_july['count'].idxmax()]\n",
    "display(most_abundant_complaint_june_july)\n",
    "\n"
   ]
  },
  {
   "cell_type": "code",
   "execution_count": 4,
   "id": "bc2f7036-c6d8-4744-a83d-b1253f4325db",
   "metadata": {},
   "outputs": [
    {
     "data": {
      "image/png": "[encoded data removed]",
      "text/plain": [
       "<Figure size 1000x600 with 1 Axes>"
      ]
     },
     "metadata": {},
     "output_type": "display_data"
    }
   ],
   "source": [
    "import matplotlib.pyplot as plt\n",
    "\n",
    "# Prepare data for plotting\n",
    "months = ['January-February', 'June-July']\n",
    "counts = [most_abundant_complaint_jan_feb['count'], most_abundant_complaint_june_july['count']]\n",
    "\n",
    "# Create a bar chart\n",
    "plt.figure(figsize=(10, 6))\n",
    "plt.bar(months, counts, color='skyblue')\n",
    "plt.title(f'Occurrences of \"{most_abundant_complaint_jan_feb[\"complaint type\"]}\" Complaint Type')\n",
    "plt.xlabel('Month')\n",
    "plt.ylabel('Number of Occurrences')\n",
    "plt.xticks(rotation=45)\n",
    "plt.tight_layout()\n",
    "plt.grid(axis='y')\n",
    "\n",
    "# Show the bar chart\n",
    "plt.show()"
   ]
  },
  {
   "cell_type": "code",
   "execution_count": null,
   "id": "9440c790-3a10-471c-847d-a05b18aeed65",
   "metadata": {},
   "outputs": [],
   "source": []
  }
 ],
 "metadata": {
  "kernelspec": {
   "display_name": "Python 3 (ipykernel)",
   "language": "python",
   "name": "python3"
  },
  "language_info": {
   "codemirror_mode": {
    "name": "ipython",
    "version": 3
   },
   "file_extension": ".py",
   "mimetype": "text/x-python",
   "name": "python",
   "nbconvert_exporter": "python",
   "pygments_lexer": "ipython3",
   "version": "3.10.12"
  }
 },
 "nbformat": 4,
 "nbformat_minor": 5
}
